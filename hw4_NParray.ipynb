{
 "cells": [
  {
   "cell_type": "markdown",
   "metadata": {},
   "source": [
    "# Homework 4:\n",
    "\n",
    "## Please put your name into the filename you submit.\n",
    "\n",
    "### Note\n",
    "For each question, there is the description and the coding block.  In the coding block, please finish the code with the hints provided.\n",
    "\n",
    "You are free to use previous notes, google and all the other support.  I also encourage you to discuss with the other students in the class if anything is not clear.  Homework is for you to practice what we have learned during the class.\n",
    "\n",
    "The homework will be due the end of the day before the next class.  For example, if I give you the homework on Thursday, then it will be due the end of the upcoming Monday."
   ]
  },
  {
   "cell_type": "markdown",
   "metadata": {},
   "source": [
    "## Q1 \n",
    "#### 1.1 Write a function to take arbitrary number of numbers as input, return those numbers as a numpy vector."
   ]
  },
  {
   "cell_type": "code",
   "execution_count": 6,
   "metadata": {},
   "outputs": [
    {
     "name": "stdout",
     "output_type": "stream",
     "text": [
      "[1 2 3 4 5]\n"
     ]
    }
   ],
   "source": [
    "# your code for Q1.1\n",
    "import numpy as np\n",
    "def func(*a):\n",
    "    return np.array(a)\n",
    "\n",
    "print(func(1,2,3,4,5))\n"
   ]
  },
  {
   "cell_type": "markdown",
   "metadata": {},
   "source": [
    "#### 1.2 Can you improve the function to also print out the mean and sum of that vector at the same time.  So you want to return three different valuables at the same time, the numpy vector, the mean and the sum."
   ]
  },
  {
   "cell_type": "code",
   "execution_count": 12,
   "metadata": {},
   "outputs": [
    {
     "name": "stdout",
     "output_type": "stream",
     "text": [
      "(array([1, 2, 3, 4, 5]), 15, 3.0)\n"
     ]
    }
   ],
   "source": [
    "# your code for Q1.2\n",
    "import numpy as np\n",
    "def func(*a):\n",
    "    arr = np.array(a)\n",
    "    sum_arr = np.sum(np.array(a))\n",
    "    mean_arr = np.mean(np.array(a))\n",
    "    return arr, sum_arr, mean_arr\n",
    "\n",
    "print(func(1,2,3,4,5))"
   ]
  },
  {
   "cell_type": "markdown",
   "metadata": {},
   "source": [
    "## Q2\n",
    "\n",
    "#### Pleae follow the steps below:\n",
    "\n",
    "- Generate a 3 by 5 array with constant value of 8\n",
    "- Change the values of the zeroth column to 1.\n",
    "- Add 10. to the values of the first row.\n",
    "- Change its size to 5 by 3\n",
    "- Print out the sum of the array"
   ]
  },
  {
   "cell_type": "code",
   "execution_count": 2,
   "metadata": {},
   "outputs": [
    {
     "name": "stdout",
     "output_type": "stream",
     "text": [
      "[[8. 8. 8. 8. 8.]\n",
      " [8. 8. 8. 8. 8.]\n",
      " [8. 8. 8. 8. 8.]]\n",
      "[[1. 8. 8. 8. 8.]\n",
      " [1. 8. 8. 8. 8.]\n",
      " [1. 8. 8. 8. 8.]]\n",
      "[[11. 18. 18. 18. 18.]\n",
      " [ 1.  8.  8.  8.  8.]\n",
      " [ 1.  8.  8.  8.  8.]]\n",
      "18.0\n",
      "[[11. 18. 18.]\n",
      " [18. 18.  1.]\n",
      " [ 8.  8.  8.]\n",
      " [ 8.  1.  8.]\n",
      " [ 8.  8.  8.]]\n",
      "149.0\n"
     ]
    }
   ],
   "source": [
    "import numpy as np\n",
    "# your code for Q2\n",
    "# step 1\n",
    "a = np.zeros((3,5))+8\n",
    "print (a)\n",
    "\n",
    "# step 2: 1st column\n",
    "a[:,0:1]-=7\n",
    "print(a)\n",
    "\n",
    "# step 3: 1st row\n",
    "a[0,:]+=10\n",
    "print(a)\n",
    "\n",
    "# 1st row, 2nd column\n",
    "print(a[0,1]) \n",
    "\n",
    "# step 4\n",
    "a = a.reshape(5, 3)\n",
    "print(a)\n",
    "\n",
    "# step 5\n",
    "print(np.sum(a))"
   ]
  },
  {
   "cell_type": "markdown",
   "metadata": {},
   "source": [
    "## Q3\n",
    "\n",
    "#### For the dictionary below, can you save only the 'Year' and 'Total' values into a file like:\n",
    "    Year   Total\n",
    "    2015   91322\n",
    "    2016   98146\n",
    "    2017  103530\n",
    "#### by using np.savetxt.  \n",
    "\n",
    "You can copy the code of saving entire dictionary from the course notebook (5b) and modify based on that.\n"
   ]
  },
  {
   "cell_type": "code",
   "execution_count": 55,
   "metadata": {},
   "outputs": [],
   "source": [
    "data={'Year':[2015,2016,2017],'Tempe':[51984,51869,51164],'Downtown':[10952,11737,11465],\\\n",
    "      'Polytechnic':[4078,4380,4809],'West':[3619,3663,4063],'Thunderbird':[416,297,327],'Total':[91322,98146,103530]}"
   ]
  },
  {
   "cell_type": "code",
   "execution_count": 56,
   "metadata": {},
   "outputs": [
    {
     "data": {
      "text/plain": [
       "dict"
      ]
     },
     "execution_count": 56,
     "metadata": {},
     "output_type": "execute_result"
    }
   ],
   "source": [
    "type(data)"
   ]
  },
  {
   "cell_type": "code",
   "execution_count": 84,
   "metadata": {},
   "outputs": [
    {
     "name": "stdout",
     "output_type": "stream",
     "text": [
      "Year Tempe Downtown Polytechnic West Thunderbird Total \n",
      "[[2015, 2016, 2017], [51984, 51869, 51164], [10952, 11737, 11465], [4078, 4380, 4809], [3619, 3663, 4063], [416, 297, 327], [91322, 98146, 103530]]\n"
     ]
    },
    {
     "data": {
      "text/plain": [
       "array([[  2015,  51984,  10952,   4078,   3619,    416,  91322],\n",
       "       [  2016,  51869,  11737,   4380,   3663,    297,  98146],\n",
       "       [  2017,  51164,  11465,   4809,   4063,    327, 103530]])"
      ]
     },
     "execution_count": 84,
     "metadata": {},
     "output_type": "execute_result"
    }
   ],
   "source": [
    "all_data=[]\n",
    "name=''\n",
    "for key,value in data.items():\n",
    "    name+=key+' '\n",
    "    all_data.append(value)\n",
    "print(name)\n",
    "print(all_data)\n",
    "\n",
    "name = np.array(name)\n",
    "all_data=np.array(all_data).T\n",
    "all_data"
   ]
  },
  {
   "cell_type": "code",
   "execution_count": 88,
   "metadata": {},
   "outputs": [
    {
     "data": {
      "text/plain": [
       "array([['Year', 'Tempe', 'Downtown', 'Polytechnic', 'West',\n",
       "        'Thunderbird', 'Total'],\n",
       "       ['2015', '51984', '10952', '4078', '3619', '416', '91322'],\n",
       "       ['2016', '51869', '11737', '4380', '3663', '297', '98146'],\n",
       "       ['2017', '51164', '11465', '4809', '4063', '327', '103530']],\n",
       "      dtype='<U21')"
      ]
     },
     "execution_count": 88,
     "metadata": {},
     "output_type": "execute_result"
    }
   ],
   "source": [
    "arr = np.append([['Year', 'Tempe', 'Downtown', 'Polytechnic', 'West', 'Thunderbird', 'Total' ]], all_data, axis=0)\n",
    "arr\n",
    "# keep getting the ValueError here if using 'name'"
   ]
  },
  {
   "cell_type": "code",
   "execution_count": 92,
   "metadata": {},
   "outputs": [
    {
     "ename": "TypeError",
     "evalue": "slice indices must be integers or None or have an __index__ method",
     "output_type": "error",
     "traceback": [
      "\u001b[0;31m---------------------------------------------------------------------------\u001b[0m",
      "\u001b[0;31mTypeError\u001b[0m                                 Traceback (most recent call last)",
      "\u001b[0;32m<ipython-input-92-3ecef39de2f6>\u001b[0m in \u001b[0;36m<module>\u001b[0;34m\u001b[0m\n\u001b[0;32m----> 1\u001b[0;31m \u001b[0mresult\u001b[0m \u001b[0;34m=\u001b[0m \u001b[0marr\u001b[0m\u001b[0;34m[\u001b[0m\u001b[0;34m:\u001b[0m \u001b[0;34m[\u001b[0m\u001b[0;34m'Year'\u001b[0m\u001b[0;34m,\u001b[0m \u001b[0;34m'Total'\u001b[0m\u001b[0;34m]\u001b[0m\u001b[0;34m]\u001b[0m\u001b[0;34m\u001b[0m\u001b[0;34m\u001b[0m\u001b[0m\n\u001b[0m",
      "\u001b[0;31mTypeError\u001b[0m: slice indices must be integers or None or have an __index__ method"
     ]
    }
   ],
   "source": [
    "result = arr[: ['Year', 'Total']]"
   ]
  },
  {
   "cell_type": "code",
   "execution_count": null,
   "metadata": {},
   "outputs": [],
   "source": [
    "np.savetxt('hw4_q3_data.dat', result)"
   ]
  }
 ],
 "metadata": {
  "kernelspec": {
   "display_name": "Python 3",
   "language": "python",
   "name": "python3"
  },
  "language_info": {
   "codemirror_mode": {
    "name": "ipython",
    "version": 3
   },
   "file_extension": ".py",
   "mimetype": "text/x-python",
   "name": "python",
   "nbconvert_exporter": "python",
   "pygments_lexer": "ipython3",
   "version": "3.7.1"
  }
 },
 "nbformat": 4,
 "nbformat_minor": 2
}
