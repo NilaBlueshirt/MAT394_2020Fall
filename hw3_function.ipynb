{
 "cells": [
  {
   "cell_type": "markdown",
   "metadata": {},
   "source": [
    "# Homework 3:\n",
    "\n",
    "## Please put your name into the filename you submit.\n",
    "\n",
    "### Note\n",
    "For each question, there is the description and the coding block.  In the coding block, please finish the code with the hints provided.\n",
    "\n",
    "You are free to use previous notes, google and all the other support.  I also encourage you to discuss with the other students in the class if anything is not clear.  Homework is for you to practice what we have learned during the class.\n",
    "\n",
    "The homework will be due the end of the day before the next class.  For example, if I give you the homework on Thursday, then it will be due the end of the upcoming Monday."
   ]
  },
  {
   "cell_type": "markdown",
   "metadata": {},
   "source": [
    "# Q1\n",
    "\n",
    "#### 1.1 Write a function that \n",
    "\n",
    "- takes in two numbers\n",
    "- multiply them together\n",
    "- print out the result inside the function\n",
    " \n",
    "Call your function with three different sets of numbers."
   ]
  },
  {
   "cell_type": "code",
   "execution_count": 2,
   "metadata": {},
   "outputs": [
    {
     "name": "stdout",
     "output_type": "stream",
     "text": [
      "6\n",
      "20\n",
      "12\n"
     ]
    }
   ],
   "source": [
    "def multiplication(a,b):\n",
    "    result = a * b\n",
    "    return print(result)\n",
    "\n",
    "# test with three sets of numbers\n",
    "multiplication(2,3)\n",
    "multiplication(4,5)\n",
    "multiplication(2,6)"
   ]
  },
  {
   "cell_type": "markdown",
   "metadata": {},
   "source": [
    "#### 1.2 Can we change the function to return the result and print the result outside the function?"
   ]
  },
  {
   "cell_type": "code",
   "execution_count": 3,
   "metadata": {},
   "outputs": [
    {
     "name": "stdout",
     "output_type": "stream",
     "text": [
      "2\n",
      "12\n",
      "30\n"
     ]
    }
   ],
   "source": [
    "def multiplication(a,b):\n",
    "    return a * b\n",
    "\n",
    "# test with three sets of numbers\n",
    "print(multiplication(1,2))\n",
    "print(multiplication(3,4))\n",
    "print(multiplication(5,6))"
   ]
  },
  {
   "cell_type": "markdown",
   "metadata": {},
   "source": [
    "#### 1.3 Can we improve the function to take arbitrary number of numbers as input and calculate their product?"
   ]
  },
  {
   "cell_type": "code",
   "execution_count": 20,
   "metadata": {},
   "outputs": [
    {
     "name": "stdout",
     "output_type": "stream",
     "text": [
      "945\n"
     ]
    }
   ],
   "source": [
    "def multiplication(*a):\n",
    "    r = 1\n",
    "    for i in a:\n",
    "        r *= i\n",
    "    return r\n",
    "\n",
    "# test with three sets of numbers\n",
    "print(multiplication(1,3,5,7,9))\n"
   ]
  },
  {
   "cell_type": "markdown",
   "metadata": {},
   "source": [
    "# Q2\n",
    "\n",
    "#### 2.1 Create a function that calculates the equation below:\n",
    "$$  f(x)= (\\frac{1}{1+x})^2    $$"
   ]
  },
  {
   "cell_type": "code",
   "execution_count": 13,
   "metadata": {},
   "outputs": [
    {
     "name": "stdout",
     "output_type": "stream",
     "text": [
      "0.1111111111111111\n",
      "0.04000000000000001\n",
      "0.02040816326530612\n"
     ]
    }
   ],
   "source": [
    "def func(x):\n",
    "    f = (1/ (1+x))**2\n",
    "    return f\n",
    "\n",
    "# test\n",
    "print(func(2))\n",
    "print(func(4))\n",
    "print(func(6))"
   ]
  },
  {
   "cell_type": "markdown",
   "metadata": {},
   "source": [
    "#### 2.2 Can we improve the function to calculate the summation below\n",
    "$$  f(x)= \\sum_{i=0}^{1000}(\\frac{1}{1+x})^{i}    $$"
   ]
  },
  {
   "cell_type": "code",
   "execution_count": 18,
   "metadata": {},
   "outputs": [
    {
     "name": "stdout",
     "output_type": "stream",
     "text": [
      "1.0\n",
      "1.0\n",
      "1.0\n"
     ]
    }
   ],
   "source": [
    "import numpy as np\n",
    "\n",
    "def func(x):\n",
    "    for i in np.range(0, 1001):\n",
    "        f = np.sum((1/ (1+x))**i)\n",
    "        return f\n",
    "\n",
    "# test\n",
    "print(func(2))\n",
    "print(func(4))\n",
    "print(func(10))"
   ]
  }
 ],
 "metadata": {
  "kernelspec": {
   "display_name": "Python 3",
   "language": "python",
   "name": "python3"
  },
  "language_info": {
   "codemirror_mode": {
    "name": "ipython",
    "version": 3
   },
   "file_extension": ".py",
   "mimetype": "text/x-python",
   "name": "python",
   "nbconvert_exporter": "python",
   "pygments_lexer": "ipython3",
   "version": "3.7.1"
  }
 },
 "nbformat": 4,
 "nbformat_minor": 2
}
