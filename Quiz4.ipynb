{
 "cells": [
  {
   "cell_type": "markdown",
   "metadata": {},
   "source": [
    "# Quiz 4 (8 points):\n",
    "\n",
    "## Please put your name into the filename you submit.\n",
    "#### For example, my quiz file will be 'WenweiZheng-Quiz3.ipynb'\n",
    "\n",
    "### Note\n",
    "We have 10 questions below.  You are free to use previous notes.  However google or discussing with the other people is not allowed."
   ]
  },
  {
   "attachments": {
    "image.png": {
     "image/png": "[encoded data removed]"
    }
   },
   "cell_type": "markdown",
   "metadata": {},
   "source": [
    "## Q1 (Markdown, 0.5 point) \n",
    "\n",
    "#### Please try to generate in the Markdown the output as shown below, it does not need to be centered\n",
    "<br><br>\n",
    "\n",
    "![image.png](attachment:image.png)"
   ]
  },
  {
   "cell_type": "markdown",
   "metadata": {},
   "source": [
    "#### Your answer for Q1:\n",
    "\n"
   ]
  },
  {
   "cell_type": "markdown",
   "metadata": {},
   "source": [
    "## Scientific computing\n",
    "- *Python*\n",
    "- **Numpy**\n",
    "- ***Scipy***"
   ]
  },
  {
   "cell_type": "markdown",
   "metadata": {},
   "source": [
    "## Q2 (Equation, 1 point) \n",
    "\n",
    "\n",
    "## 2.a Please calculate\n",
    "\n",
    "\n",
    "$$ 5.42 \\times \\frac{3.28}{6.9-1.2}   $$\n"
   ]
  },
  {
   "cell_type": "code",
   "execution_count": 1,
   "metadata": {},
   "outputs": [
    {
     "name": "stdout",
     "output_type": "stream",
     "text": [
      "3.1188771929824557\n"
     ]
    }
   ],
   "source": [
    "# code for Q2.a\n",
    "print(5.42 * ( 3.28 / (6.9 - 1.2)))"
   ]
  },
  {
   "cell_type": "markdown",
   "metadata": {},
   "source": [
    "## 2.b Please calculate\n",
    "\n",
    "\n",
    "$$\\sum_{i=0}^{100} (\\frac{2}{i^2+i+1})$$"
   ]
  },
  {
   "cell_type": "code",
   "execution_count": 6,
   "metadata": {},
   "outputs": [
    {
     "name": "stdout",
     "output_type": "stream",
     "text": [
      "3.57649322793672\n"
     ]
    }
   ],
   "source": [
    "# code for Q2.b\n",
    "import numpy as np\n",
    "i = np.arange(0, 101)\n",
    "print(sum(2 / (i**2 + i + 1)))"
   ]
  },
  {
   "cell_type": "markdown",
   "metadata": {},
   "source": [
    "## Q3 (Loop, 1 point)\n",
    "\n",
    "\n",
    "## 3.a Please print out all the integer numbers from 10 to 99 that can be divided by 15.\n",
    "#### Note you can use `%` to get the remainder after division\n",
    "\n",
    "## 3.b For those numbers, print the sum of the digit in tens place and the digit in ones place "
   ]
  },
  {
   "cell_type": "code",
   "execution_count": 2,
   "metadata": {},
   "outputs": [
    {
     "name": "stdout",
     "output_type": "stream",
     "text": [
      "[15, 30, 45, 60, 75, 90]\n",
      "[6.0, 3.0, 9.0, 6.0, 12.0, 9.0]\n"
     ]
    }
   ],
   "source": [
    "# code for Q3\n",
    "res1 = []\n",
    "res2 = []\n",
    "\n",
    "for i in range(10, 100):\n",
    "    if i%15 == 0:\n",
    "        res1.append(i)\n",
    "        sum_digit = i%10 + ((i - (i%10))/10)\n",
    "        res2.append(sum_digit)\n",
    "        \n",
    "print(res1)\n",
    "print(res2)"
   ]
  },
  {
   "cell_type": "markdown",
   "metadata": {},
   "source": [
    "## Q4 (Array, 1 point)\n",
    "\n",
    "#### 4.a Generate a 3 by 5 array with constant value of 10.\n",
    "#### 4.b Set the first column to be a value of 5.\n",
    "#### 4.c Flatten the matrix\n",
    "#### 4.d Save the matrix into a txt file named `data.dat`"
   ]
  },
  {
   "cell_type": "code",
   "execution_count": 75,
   "metadata": {},
   "outputs": [
    {
     "name": "stdout",
     "output_type": "stream",
     "text": [
      "[[0. 0. 0. 0. 0.]\n",
      " [0. 0. 0. 0. 0.]\n",
      " [0. 0. 0. 0. 0.]] \n",
      "\n",
      "[[5. 0. 0. 0. 0.]\n",
      " [5. 0. 0. 0. 0.]\n",
      " [5. 0. 0. 0. 0.]] \n",
      "\n",
      "[5. 0. 0. 0. 0. 5. 0. 0. 0. 0. 5. 0. 0. 0. 0.]\n"
     ]
    }
   ],
   "source": [
    "# code for Q4\n",
    "import numpy as np\n",
    "\n",
    "# 4a\n",
    "a = np.zeros((3,5)) + 10\n",
    "print(a, '\\n')\n",
    "\n",
    "# 4b\n",
    "a[:,0:1] += 5\n",
    "print(a, '\\n')\n",
    "\n",
    "# 4c\n",
    "print(a.flatten())\n",
    "\n",
    "# 4d\n",
    "np.savetxt('q4.txt', a) "
   ]
  },
  {
   "cell_type": "markdown",
   "metadata": {},
   "source": [
    "## Q5 (Plot, 1 point)\n",
    "\n",
    "#### 5.a For the random vectors `x` and `y` below, plot x and y using the `plot` function in `o` notation in `red` without the line\n",
    "\n",
    "#### 5.b Mark a dot with mean of x and mean of y in `black`\n",
    "\n",
    "#### 5.c Mark a dot with the largest x and the corresponding y in `blue`"
   ]
  },
  {
   "cell_type": "code",
   "execution_count": 76,
   "metadata": {},
   "outputs": [
    {
     "data": {
      "image/png": "[encoded data removed]",
      "text/plain": [
       "<Figure size 216x216 with 1 Axes>"
      ]
     },
     "metadata": {
      "needs_background": "light"
     },
     "output_type": "display_data"
    }
   ],
   "source": [
    "import numpy as np\n",
    "import matplotlib.pyplot as plt\n",
    "\n",
    "%matplotlib inline\n",
    "\n",
    "fig=plt.figure(figsize=[3,3])\n",
    "x=np.random.randn(100)\n",
    "y=np.random.randn(100)\n",
    "\n",
    "# 5a\n",
    "plt.plot(x, y, 'o', color= 'red')\n",
    "\n",
    "# 5b\n",
    "plt.plot(np.mean(x), np.mean(y), 'x', color = 'black')\n",
    "\n",
    "# 5c\n",
    "max_x = max(x) \n",
    "max_y = y[x.argmax()]\n",
    "# max_y = np.interp(max_x, x, y) is not working, since this dot must be one of the dot plotted in 5a\n",
    "plt.plot(max_x, max_y, 'x', color = 'blue')\n",
    "\n",
    "plt.show()"
   ]
  },
  {
   "cell_type": "markdown",
   "metadata": {},
   "source": [
    "## Q6 (Distribution, 1 point)\n",
    "\n",
    "#### I have generated a data set `data` with 10k numbers\n",
    "\n",
    "#### 6.a Plot the histogram of the data set\n",
    "\n",
    "#### 6.b Calculate the mean and std directly from the data set and print them out\n",
    "\n",
    "#### 6.c Calculate the mean and std by fitting to a normal distribution function and print them out\n",
    "\n",
    "#### 6.d Plot the normal distribution with a different color using the mean and std from 6.c"
   ]
  },
  {
   "cell_type": "code",
   "execution_count": 77,
   "metadata": {},
   "outputs": [
    {
     "data": {
      "image/png": "[encoded data removed]",
      "text/plain": [
       "<Figure size 432x288 with 1 Axes>"
      ]
     },
     "metadata": {
      "needs_background": "light"
     },
     "output_type": "display_data"
    },
    {
     "name": "stdout",
     "output_type": "stream",
     "text": [
      "0.005607326125112231 1.0002815478846485 \n",
      "\n",
      "0.28188892069971627 0.11038382725226788\n"
     ]
    },
    {
     "data": {
      "image/png": "[encoded data removed]",
      "text/plain": [
       "<Figure size 432x288 with 1 Axes>"
      ]
     },
     "metadata": {
      "needs_background": "light"
     },
     "output_type": "display_data"
    }
   ],
   "source": [
    "import numpy as np\n",
    "import matplotlib.pyplot as plt\n",
    "from scipy.stats import norm\n",
    "\n",
    "data=np.random.randn(10000)\n",
    "\n",
    "# 6a\n",
    "%matplotlib inline\n",
    "plt.hist(data, bins=20, color='lightblue', edgecolor='blue', density=True)\n",
    "plt.show()\n",
    "\n",
    "# 6b\n",
    "print(np.mean(data), np.std(data), '\\n')\n",
    "\n",
    "# 6c\n",
    "c = norm.pdf(data)\n",
    "mean_c = c.mean()\n",
    "std_c = c.std()\n",
    "print(mean_c, std_c)\n",
    "\n",
    "# 6d\n",
    "d = norm(mean_c, std_c)\n",
    "plt.plot(data, d.pdf(data), '-')\n",
    "\n",
    "plt.show()"
   ]
  },
  {
   "cell_type": "markdown",
   "metadata": {},
   "source": [
    "## Q7 (Solve linear equation, 1 point)\n",
    "\n",
    "\n",
    "#### For the equations below\n",
    "\n",
    "$ 2x+ 3y + 5z = 11$\n",
    "\n",
    "$ 2x + 4y + z = 9$\n",
    "\n",
    "$ 3x + 3y + z = 7$\n",
    "\n",
    "#### 7.a Solve x, y and z\n",
    "\n",
    "#### 7.b Verify your answer by printing out both `A.dot(x)` and `b`"
   ]
  },
  {
   "cell_type": "code",
   "execution_count": 23,
   "metadata": {},
   "outputs": [
    {
     "name": "stdout",
     "output_type": "stream",
     "text": [
      "[-4.4408921e-16  2.0000000e+00  1.0000000e+00] \n",
      "\n",
      "[11.  9.  7.]\n",
      "[11  9  7]\n"
     ]
    }
   ],
   "source": [
    "# Code for 7\n",
    "from scipy import linalg\n",
    "import numpy as np\n",
    "\n",
    "A = np.array([[2, 3, 5],\n",
    "              [2, 4, 1],\n",
    "              [3, 3, 1]])\n",
    "\n",
    "b = np.array([11, 9, 7])\n",
    "\n",
    "# 7a\n",
    "x = np.linalg.solve(A, b)\n",
    "print(x, '\\n')\n",
    "\n",
    "# 7b\n",
    "print(A.dot(x))\n",
    "print(b)"
   ]
  },
  {
   "cell_type": "markdown",
   "metadata": {},
   "source": [
    "## Q8 (Root, 0.5 point)\n",
    "\n",
    "#### Please obtain the root for the equation below:\n",
    "$$ x + sin(x) - 5=0 $$"
   ]
  },
  {
   "cell_type": "code",
   "execution_count": 33,
   "metadata": {},
   "outputs": [
    {
     "data": {
      "image/png": "[encoded data removed]",
      "text/plain": [
       "<Figure size 432x288 with 1 Axes>"
      ]
     },
     "metadata": {
      "needs_background": "light"
     },
     "output_type": "display_data"
    },
    {
     "data": {
      "image/png": "[encoded data removed]",
      "text/plain": [
       "<Figure size 432x288 with 1 Axes>"
      ]
     },
     "metadata": {
      "needs_background": "light"
     },
     "output_type": "display_data"
    }
   ],
   "source": [
    "# Code for Q8\n",
    "import numpy as np\n",
    "import matplotlib.pyplot as plt\n",
    "from scipy.optimize import fsolve\n",
    "\n",
    "# plot the function y = 𝑥 + 𝑠𝑖𝑛(𝑥) −5\n",
    "x = np.linspace(-10, 10, 100)\n",
    "y = x + np.sin(x) - 5\n",
    "plt.plot(x, y)\n",
    "plt.show()\n",
    "\n",
    "# define the function y = 𝑥 + 𝑠𝑖𝑛(𝑥) −5\n",
    "def func(x):\n",
    "    return x + np.sin(x) - 5\n",
    "\n",
    "# solve the function using a good initial guess\n",
    "res=[]\n",
    "for x0 in np.arange(-1, 1, 0.05):\n",
    "    res.append((x0, fsolve(func, x0 = x0)))\n",
    "res=np.array(res)\n",
    "\n",
    "plt.plot(res[:,0], res[:,1], 'b')\n",
    "plt.show()"
   ]
  },
  {
   "cell_type": "markdown",
   "metadata": {},
   "source": [
    "## Q9 (Minimization, 0.5 point)\n",
    "\n",
    "#### Try to minimize the equation below:\n",
    "$$ y= x ^ 2 -3x + 6 $$ \n",
    "#### print out `x` minimizing the equation and the minimum value of the function (`fun`)"
   ]
  },
  {
   "cell_type": "code",
   "execution_count": 39,
   "metadata": {},
   "outputs": [
    {
     "name": "stdout",
     "output_type": "stream",
     "text": [
      "[1.5]\n"
     ]
    },
    {
     "data": {
      "image/png": "[encoded data removed]",
      "text/plain": [
       "<Figure size 432x288 with 1 Axes>"
      ]
     },
     "metadata": {
      "needs_background": "light"
     },
     "output_type": "display_data"
    }
   ],
   "source": [
    "# Code for 9\n",
    "import numpy as np\n",
    "import matplotlib.pyplot as plt\n",
    "from scipy.optimize import minimize\n",
    "\n",
    "x=np.linspace(-1, 10 ,20)\n",
    "\n",
    "def fun(x):\n",
    "    return x**2 - 3*x + 6\n",
    "plt.plot(x, fun(x))\n",
    "\n",
    "res=minimize(fun, x0=5, method='Nelder-Mead' ) \n",
    "\n",
    "x=res.x\n",
    "print(x)\n",
    "plt.plot(x, fun(x), 'rx')\n",
    "plt.show()\n"
   ]
  },
  {
   "cell_type": "markdown",
   "metadata": {},
   "source": [
    "## Q10 (Data frame, 0.5 point)\n",
    "\n",
    "#### Please run the code below to generate the data first and then finish the question below"
   ]
  },
  {
   "cell_type": "code",
   "execution_count": 40,
   "metadata": {},
   "outputs": [
    {
     "data": {
      "text/html": [
       "<div>\n",
       "<style scoped>\n",
       "    .dataframe tbody tr th:only-of-type {\n",
       "        vertical-align: middle;\n",
       "    }\n",
       "\n",
       "    .dataframe tbody tr th {\n",
       "        vertical-align: top;\n",
       "    }\n",
       "\n",
       "    .dataframe thead th {\n",
       "        text-align: right;\n",
       "    }\n",
       "</style>\n",
       "<table border=\"1\" class=\"dataframe\">\n",
       "  <thead>\n",
       "    <tr style=\"text-align: right;\">\n",
       "      <th></th>\n",
       "      <th>HW1</th>\n",
       "      <th>HW2</th>\n",
       "      <th>QZ1</th>\n",
       "      <th>QZ2</th>\n",
       "      <th>Exam1</th>\n",
       "      <th>Exam2</th>\n",
       "      <th>Project</th>\n",
       "    </tr>\n",
       "  </thead>\n",
       "  <tbody>\n",
       "    <tr>\n",
       "      <th>Michael</th>\n",
       "      <td>82</td>\n",
       "      <td>35</td>\n",
       "      <td>13</td>\n",
       "      <td>68</td>\n",
       "      <td>91</td>\n",
       "      <td>92</td>\n",
       "      <td>88</td>\n",
       "    </tr>\n",
       "    <tr>\n",
       "      <th>Logan</th>\n",
       "      <td>96</td>\n",
       "      <td>31</td>\n",
       "      <td>72</td>\n",
       "      <td>62</td>\n",
       "      <td>96</td>\n",
       "      <td>50</td>\n",
       "      <td>85</td>\n",
       "    </tr>\n",
       "    <tr>\n",
       "      <th>Carter</th>\n",
       "      <td>18</td>\n",
       "      <td>76</td>\n",
       "      <td>12</td>\n",
       "      <td>26</td>\n",
       "      <td>5</td>\n",
       "      <td>45</td>\n",
       "      <td>46</td>\n",
       "    </tr>\n",
       "    <tr>\n",
       "      <th>Avery</th>\n",
       "      <td>60</td>\n",
       "      <td>56</td>\n",
       "      <td>41</td>\n",
       "      <td>29</td>\n",
       "      <td>84</td>\n",
       "      <td>63</td>\n",
       "      <td>28</td>\n",
       "    </tr>\n",
       "    <tr>\n",
       "      <th>Jayden</th>\n",
       "      <td>59</td>\n",
       "      <td>57</td>\n",
       "      <td>97</td>\n",
       "      <td>96</td>\n",
       "      <td>61</td>\n",
       "      <td>56</td>\n",
       "      <td>39</td>\n",
       "    </tr>\n",
       "    <tr>\n",
       "      <th>Madison</th>\n",
       "      <td>84</td>\n",
       "      <td>4</td>\n",
       "      <td>5</td>\n",
       "      <td>57</td>\n",
       "      <td>48</td>\n",
       "      <td>2</td>\n",
       "      <td>1</td>\n",
       "    </tr>\n",
       "    <tr>\n",
       "      <th>Riley</th>\n",
       "      <td>55</td>\n",
       "      <td>50</td>\n",
       "      <td>70</td>\n",
       "      <td>75</td>\n",
       "      <td>35</td>\n",
       "      <td>90</td>\n",
       "      <td>15</td>\n",
       "    </tr>\n",
       "    <tr>\n",
       "      <th>Julian</th>\n",
       "      <td>43</td>\n",
       "      <td>36</td>\n",
       "      <td>4</td>\n",
       "      <td>73</td>\n",
       "      <td>14</td>\n",
       "      <td>9</td>\n",
       "      <td>35</td>\n",
       "    </tr>\n",
       "    <tr>\n",
       "      <th>Hunter</th>\n",
       "      <td>38</td>\n",
       "      <td>97</td>\n",
       "      <td>56</td>\n",
       "      <td>1</td>\n",
       "      <td>90</td>\n",
       "      <td>39</td>\n",
       "      <td>85</td>\n",
       "    </tr>\n",
       "    <tr>\n",
       "      <th>Emma</th>\n",
       "      <td>21</td>\n",
       "      <td>27</td>\n",
       "      <td>11</td>\n",
       "      <td>21</td>\n",
       "      <td>21</td>\n",
       "      <td>84</td>\n",
       "      <td>32</td>\n",
       "    </tr>\n",
       "    <tr>\n",
       "      <th>Olivia</th>\n",
       "      <td>85</td>\n",
       "      <td>55</td>\n",
       "      <td>27</td>\n",
       "      <td>70</td>\n",
       "      <td>59</td>\n",
       "      <td>38</td>\n",
       "      <td>43</td>\n",
       "    </tr>\n",
       "    <tr>\n",
       "      <th>Noah</th>\n",
       "      <td>55</td>\n",
       "      <td>16</td>\n",
       "      <td>6</td>\n",
       "      <td>32</td>\n",
       "      <td>0</td>\n",
       "      <td>66</td>\n",
       "      <td>53</td>\n",
       "    </tr>\n",
       "  </tbody>\n",
       "</table>\n",
       "</div>"
      ],
      "text/plain": [
       "         HW1  HW2  QZ1  QZ2  Exam1  Exam2  Project\n",
       "Michael   82   35   13   68     91     92       88\n",
       "Logan     96   31   72   62     96     50       85\n",
       "Carter    18   76   12   26      5     45       46\n",
       "Avery     60   56   41   29     84     63       28\n",
       "Jayden    59   57   97   96     61     56       39\n",
       "Madison   84    4    5   57     48      2        1\n",
       "Riley     55   50   70   75     35     90       15\n",
       "Julian    43   36    4   73     14      9       35\n",
       "Hunter    38   97   56    1     90     39       85\n",
       "Emma      21   27   11   21     21     84       32\n",
       "Olivia    85   55   27   70     59     38       43\n",
       "Noah      55   16    6   32      0     66       53"
      ]
     },
     "metadata": {},
     "output_type": "display_data"
    }
   ],
   "source": [
    "import numpy as np\n",
    "import pandas as pd\n",
    "from IPython.display import display\n",
    "\n",
    "name=['Michael','Logan','Carter','Avery','Jayden','Madison','Riley','Julian','Hunter','Emma','Olivia','Noah']\n",
    "exam1=np.random.randint(100,size=12)\n",
    "exam2=np.random.randint(100,size=12)\n",
    "qz1=np.random.randint(100,size=12)\n",
    "qz2=np.random.randint(100,size=12)\n",
    "hw1=np.random.randint(100,size=12)\n",
    "hw2=np.random.randint(100,size=12)\n",
    "project=np.random.randint(100,size=12)\n",
    "\n",
    "res=list(zip(hw1,hw2,qz1,qz2,exam1,exam2,project,))\n",
    "df=pd.DataFrame(data=res,columns=['HW1','HW2','QZ1','QZ2','Exam1','Exam2','Project'])\n",
    "df.index=name\n",
    "df.to_csv('data.csv')\n",
    "display(df)"
   ]
  },
  {
   "cell_type": "markdown",
   "metadata": {},
   "source": [
    "\n",
    "#### 1. Add one additional column called `Total` for the sum of all the grades for each person\n",
    "\n",
    "#### 2. Add one additional row called `Mean` for the average of each grade\n",
    "\n",
    "#### 3. Print the name of the person with the highest `Total`"
   ]
  },
  {
   "cell_type": "code",
   "execution_count": 54,
   "metadata": {},
   "outputs": [
    {
     "name": "stdout",
     "output_type": "stream",
     "text": [
      "Total    Logan\n",
      "dtype: object\n"
     ]
    },
    {
     "data": {
      "text/html": [
       "<div>\n",
       "<style scoped>\n",
       "    .dataframe tbody tr th:only-of-type {\n",
       "        vertical-align: middle;\n",
       "    }\n",
       "\n",
       "    .dataframe tbody tr th {\n",
       "        vertical-align: top;\n",
       "    }\n",
       "\n",
       "    .dataframe thead th {\n",
       "        text-align: right;\n",
       "    }\n",
       "</style>\n",
       "<table border=\"1\" class=\"dataframe\">\n",
       "  <thead>\n",
       "    <tr style=\"text-align: right;\">\n",
       "      <th></th>\n",
       "      <th>HW1</th>\n",
       "      <th>HW2</th>\n",
       "      <th>QZ1</th>\n",
       "      <th>QZ2</th>\n",
       "      <th>Exam1</th>\n",
       "      <th>Exam2</th>\n",
       "      <th>Project</th>\n",
       "      <th>Total</th>\n",
       "    </tr>\n",
       "  </thead>\n",
       "  <tbody>\n",
       "    <tr>\n",
       "      <th>Michael</th>\n",
       "      <td>82.0</td>\n",
       "      <td>35.0</td>\n",
       "      <td>13.0</td>\n",
       "      <td>68.000000</td>\n",
       "      <td>91.000000</td>\n",
       "      <td>92.000000</td>\n",
       "      <td>88.000000</td>\n",
       "      <td>469.000000</td>\n",
       "    </tr>\n",
       "    <tr>\n",
       "      <th>Logan</th>\n",
       "      <td>96.0</td>\n",
       "      <td>31.0</td>\n",
       "      <td>72.0</td>\n",
       "      <td>62.000000</td>\n",
       "      <td>96.000000</td>\n",
       "      <td>50.000000</td>\n",
       "      <td>85.000000</td>\n",
       "      <td>492.000000</td>\n",
       "    </tr>\n",
       "    <tr>\n",
       "      <th>Carter</th>\n",
       "      <td>18.0</td>\n",
       "      <td>76.0</td>\n",
       "      <td>12.0</td>\n",
       "      <td>26.000000</td>\n",
       "      <td>5.000000</td>\n",
       "      <td>45.000000</td>\n",
       "      <td>46.000000</td>\n",
       "      <td>228.000000</td>\n",
       "    </tr>\n",
       "    <tr>\n",
       "      <th>Avery</th>\n",
       "      <td>60.0</td>\n",
       "      <td>56.0</td>\n",
       "      <td>41.0</td>\n",
       "      <td>29.000000</td>\n",
       "      <td>84.000000</td>\n",
       "      <td>63.000000</td>\n",
       "      <td>28.000000</td>\n",
       "      <td>361.000000</td>\n",
       "    </tr>\n",
       "    <tr>\n",
       "      <th>Jayden</th>\n",
       "      <td>59.0</td>\n",
       "      <td>57.0</td>\n",
       "      <td>97.0</td>\n",
       "      <td>96.000000</td>\n",
       "      <td>61.000000</td>\n",
       "      <td>56.000000</td>\n",
       "      <td>39.000000</td>\n",
       "      <td>465.000000</td>\n",
       "    </tr>\n",
       "    <tr>\n",
       "      <th>Madison</th>\n",
       "      <td>84.0</td>\n",
       "      <td>4.0</td>\n",
       "      <td>5.0</td>\n",
       "      <td>57.000000</td>\n",
       "      <td>48.000000</td>\n",
       "      <td>2.000000</td>\n",
       "      <td>1.000000</td>\n",
       "      <td>201.000000</td>\n",
       "    </tr>\n",
       "    <tr>\n",
       "      <th>Riley</th>\n",
       "      <td>55.0</td>\n",
       "      <td>50.0</td>\n",
       "      <td>70.0</td>\n",
       "      <td>75.000000</td>\n",
       "      <td>35.000000</td>\n",
       "      <td>90.000000</td>\n",
       "      <td>15.000000</td>\n",
       "      <td>390.000000</td>\n",
       "    </tr>\n",
       "    <tr>\n",
       "      <th>Julian</th>\n",
       "      <td>43.0</td>\n",
       "      <td>36.0</td>\n",
       "      <td>4.0</td>\n",
       "      <td>73.000000</td>\n",
       "      <td>14.000000</td>\n",
       "      <td>9.000000</td>\n",
       "      <td>35.000000</td>\n",
       "      <td>214.000000</td>\n",
       "    </tr>\n",
       "    <tr>\n",
       "      <th>Hunter</th>\n",
       "      <td>38.0</td>\n",
       "      <td>97.0</td>\n",
       "      <td>56.0</td>\n",
       "      <td>1.000000</td>\n",
       "      <td>90.000000</td>\n",
       "      <td>39.000000</td>\n",
       "      <td>85.000000</td>\n",
       "      <td>406.000000</td>\n",
       "    </tr>\n",
       "    <tr>\n",
       "      <th>Emma</th>\n",
       "      <td>21.0</td>\n",
       "      <td>27.0</td>\n",
       "      <td>11.0</td>\n",
       "      <td>21.000000</td>\n",
       "      <td>21.000000</td>\n",
       "      <td>84.000000</td>\n",
       "      <td>32.000000</td>\n",
       "      <td>217.000000</td>\n",
       "    </tr>\n",
       "    <tr>\n",
       "      <th>Olivia</th>\n",
       "      <td>85.0</td>\n",
       "      <td>55.0</td>\n",
       "      <td>27.0</td>\n",
       "      <td>70.000000</td>\n",
       "      <td>59.000000</td>\n",
       "      <td>38.000000</td>\n",
       "      <td>43.000000</td>\n",
       "      <td>377.000000</td>\n",
       "    </tr>\n",
       "    <tr>\n",
       "      <th>Noah</th>\n",
       "      <td>55.0</td>\n",
       "      <td>16.0</td>\n",
       "      <td>6.0</td>\n",
       "      <td>32.000000</td>\n",
       "      <td>0.000000</td>\n",
       "      <td>66.000000</td>\n",
       "      <td>53.000000</td>\n",
       "      <td>228.000000</td>\n",
       "    </tr>\n",
       "    <tr>\n",
       "      <th>Mean</th>\n",
       "      <td>58.0</td>\n",
       "      <td>45.0</td>\n",
       "      <td>34.5</td>\n",
       "      <td>50.833333</td>\n",
       "      <td>50.333333</td>\n",
       "      <td>52.833333</td>\n",
       "      <td>45.833333</td>\n",
       "      <td>337.333333</td>\n",
       "    </tr>\n",
       "  </tbody>\n",
       "</table>\n",
       "</div>"
      ],
      "text/plain": [
       "          HW1   HW2   QZ1        QZ2      Exam1      Exam2    Project  \\\n",
       "Michael  82.0  35.0  13.0  68.000000  91.000000  92.000000  88.000000   \n",
       "Logan    96.0  31.0  72.0  62.000000  96.000000  50.000000  85.000000   \n",
       "Carter   18.0  76.0  12.0  26.000000   5.000000  45.000000  46.000000   \n",
       "Avery    60.0  56.0  41.0  29.000000  84.000000  63.000000  28.000000   \n",
       "Jayden   59.0  57.0  97.0  96.000000  61.000000  56.000000  39.000000   \n",
       "Madison  84.0   4.0   5.0  57.000000  48.000000   2.000000   1.000000   \n",
       "Riley    55.0  50.0  70.0  75.000000  35.000000  90.000000  15.000000   \n",
       "Julian   43.0  36.0   4.0  73.000000  14.000000   9.000000  35.000000   \n",
       "Hunter   38.0  97.0  56.0   1.000000  90.000000  39.000000  85.000000   \n",
       "Emma     21.0  27.0  11.0  21.000000  21.000000  84.000000  32.000000   \n",
       "Olivia   85.0  55.0  27.0  70.000000  59.000000  38.000000  43.000000   \n",
       "Noah     55.0  16.0   6.0  32.000000   0.000000  66.000000  53.000000   \n",
       "Mean     58.0  45.0  34.5  50.833333  50.333333  52.833333  45.833333   \n",
       "\n",
       "              Total  \n",
       "Michael  469.000000  \n",
       "Logan    492.000000  \n",
       "Carter   228.000000  \n",
       "Avery    361.000000  \n",
       "Jayden   465.000000  \n",
       "Madison  201.000000  \n",
       "Riley    390.000000  \n",
       "Julian   214.000000  \n",
       "Hunter   406.000000  \n",
       "Emma     217.000000  \n",
       "Olivia   377.000000  \n",
       "Noah     228.000000  \n",
       "Mean     337.333333  "
      ]
     },
     "execution_count": 54,
     "metadata": {},
     "output_type": "execute_result"
    }
   ],
   "source": [
    "import numpy as np\n",
    "import pandas as pd\n",
    "df=pd.read_csv('data.csv', index_col=0)\n",
    "\n",
    "# 10a\n",
    "df['Total'] = df.loc[:, 'HW1':'Project'].sum(axis = 1)\n",
    "\n",
    "# 10b\n",
    "df.loc['Mean'] = df.loc[:, 'HW1':'Total'].mean(axis = 0)\n",
    "\n",
    "# 10c\n",
    "print(df[['Total']].idxmax())\n",
    "df"
   ]
  }
 ],
 "metadata": {
  "kernelspec": {
   "display_name": "Python 3",
   "language": "python",
   "name": "python3"
  },
  "language_info": {
   "codemirror_mode": {
    "name": "ipython",
    "version": 3
   },
   "file_extension": ".py",
   "mimetype": "text/x-python",
   "name": "python",
   "nbconvert_exporter": "python",
   "pygments_lexer": "ipython3",
   "version": "3.7.1"
  }
 },
 "nbformat": 4,
 "nbformat_minor": 2
}
