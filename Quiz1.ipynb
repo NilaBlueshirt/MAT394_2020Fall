{
 "cells": [
  {
   "cell_type": "markdown",
   "metadata": {},
   "source": [
    "# Quiz 1 (5 points):\n",
    "\n",
    "## Please put your name into the filename you submit.\n",
    "#### For example, my quiz file will be 'WenweiZheng-Quiz1.ipynb'\n",
    "\n",
    "### Note\n",
    "We have 10 questions below.  You are free to use previous notes and google."
   ]
  },
  {
   "attachments": {
    "image.png": {
     "image/png": "[encoded data removed]"
    }
   },
   "cell_type": "markdown",
   "metadata": {},
   "source": [
    "## Q1 (0.5 points) \n",
    "#### Please try to generate in the Markdown the output as shown below (note it does not need to be centered):\n",
    " \n",
    "\n",
    "![image.png](attachment:image.png)\n"
   ]
  },
  {
   "cell_type": "markdown",
   "metadata": {},
   "source": [
    "#### Q1 please type your answer here\n",
    "\n",
    "A **bold** word or an *italic* word can be generated by using \\*.\n",
    "\n",
    "To get both ***bold and italic***, we need more \\*s."
   ]
  },
  {
   "cell_type": "markdown",
   "metadata": {},
   "source": [
    "## Q2 (0.5 points)\n",
    "#### Can you help test which word is the python keyword in the list below and cannot be used for naming a valuable?\n",
    "\n",
    "    back\n",
    "    as\n",
    "    to\n",
    "    sync"
   ]
  },
  {
   "cell_type": "code",
   "execution_count": 1,
   "metadata": {},
   "outputs": [
    {
     "ename": "SyntaxError",
     "evalue": "invalid syntax (<ipython-input-1-4e42f0e34a68>, line 6)",
     "output_type": "error",
     "traceback": [
      "\u001b[0;36m  File \u001b[0;32m\"<ipython-input-1-4e42f0e34a68>\"\u001b[0;36m, line \u001b[0;32m6\u001b[0m\n\u001b[0;31m    as=1\u001b[0m\n\u001b[0m     ^\u001b[0m\n\u001b[0;31mSyntaxError\u001b[0m\u001b[0;31m:\u001b[0m invalid syntax\n"
     ]
    }
   ],
   "source": [
    "## This is the place for you to test, you can check the naming rule by trying to assign a value to that name.\n",
    "\n",
    "## Then please give the keyword in the Markdown block below\n",
    "\n",
    "back=1\n",
    "as=1\n",
    "to=1\n",
    "sync=1\n",
    "\n",
    "## I can see the word \"as\" is color coded, so it is a reserved word. And also it will bring the errors."
   ]
  },
  {
   "cell_type": "markdown",
   "metadata": {},
   "source": [
    "### Q2 answer: the keyword in that list is?\n",
    "\n",
    "as"
   ]
  },
  {
   "cell_type": "markdown",
   "metadata": {},
   "source": [
    "## Q3 (0.5 points)\n",
    "#### What is the type of the valuable `a` in the code below?  You are free to try in the code block below."
   ]
  },
  {
   "cell_type": "code",
   "execution_count": 4,
   "metadata": {},
   "outputs": [
    {
     "name": "stdout",
     "output_type": "stream",
     "text": [
      "False\n"
     ]
    }
   ],
   "source": [
    "import numpy as np\n",
    "a=np.sum(int(0.235*32.53)*np.zeros(10))==2\n",
    "\n",
    "print (a)\n",
    "## Please give your answer to the Markdown block below"
   ]
  },
  {
   "cell_type": "markdown",
   "metadata": {},
   "source": [
    "#### Q3 The type of the valuable `a` is ?\n",
    "\n",
    "boolean"
   ]
  },
  {
   "cell_type": "markdown",
   "metadata": {},
   "source": [
    "## Q4 (0.5 points)\n",
    "\n",
    "#### Can you generate a vector containing numbers of (1, 2, 3, 4, 5) and print out the sum of the vector using NumPy functions?"
   ]
  },
  {
   "cell_type": "code",
   "execution_count": 6,
   "metadata": {},
   "outputs": [
    {
     "name": "stdout",
     "output_type": "stream",
     "text": [
      "15\n"
     ]
    }
   ],
   "source": [
    "## Please put the code of Q4 here\n",
    "import numpy as np\n",
    "a = [1,2,3,4,5]\n",
    "print(sum(a))"
   ]
  },
  {
   "cell_type": "markdown",
   "metadata": {},
   "source": [
    "## Q5 (0.5 points)\n",
    "\n",
    "#### Please calculate the equation below and print out the answer\n",
    "$$ 1.23 \\times \\frac{2.395}{2.53-1.2}   $$"
   ]
  },
  {
   "cell_type": "code",
   "execution_count": 5,
   "metadata": {},
   "outputs": [
    {
     "name": "stdout",
     "output_type": "stream",
     "text": [
      "2.2149248120300755\n"
     ]
    }
   ],
   "source": [
    "## Please put the code of Q5 here\n",
    "\n",
    "print (1.23 * ( 2.395/ ( 2.53 - 1.2)))"
   ]
  },
  {
   "cell_type": "markdown",
   "metadata": {},
   "source": [
    "## Q6 (0.5 points)\n",
    "#### Please caculate the equation below and print out the answer\n",
    "$$\\sum_{i=0}^{100} (i^{0.3}+i)$$"
   ]
  },
  {
   "cell_type": "code",
   "execution_count": 3,
   "metadata": {},
   "outputs": [
    {
     "name": "stdout",
     "output_type": "stream",
     "text": [
      "5357.934003091741\n"
     ]
    }
   ],
   "source": [
    "## Please put the code of Q6 here\n",
    "\n",
    "import numpy as np\n",
    "\n",
    "i=np.arange(101)\n",
    "\n",
    "print(sum(i**0.3 + i))"
   ]
  },
  {
   "cell_type": "markdown",
   "metadata": {},
   "source": [
    "## Q7 (0.5 points)\n",
    "#### Please replace 'Robert' to 'Tom' by\n",
    "- insert a string in front of 'Robert'\n",
    "- remove 'Robert'"
   ]
  },
  {
   "cell_type": "code",
   "execution_count": 11,
   "metadata": {},
   "outputs": [
    {
     "name": "stdout",
     "output_type": "stream",
     "text": [
      "['James', 'Tom', 'Alexandru', 'Alia', 'Hunter', 'Jacob', 'Jonathan', 'Kenneth', 'Caleb', 'Merine', 'Angelina']\n"
     ]
    }
   ],
   "source": [
    "name_list= ['James','Robert','Alexandru','Alia','Hunter','Jacob','Jonathan','Kenneth','Caleb','Merine','Angelina']\n",
    "\n",
    "## Please put the code of Q7 here\n",
    "\n",
    "name_list.insert(1, \"Tom\")\n",
    "\n",
    "name_list.remove(\"Robert\")\n",
    "\n",
    "print(name_list)\n"
   ]
  },
  {
   "cell_type": "markdown",
   "metadata": {},
   "source": [
    "## Q8 (0.5 points)\n",
    "\n",
    "#### For each name in the list, please print out a capital letter version of the name and the number of characters in the name."
   ]
  },
  {
   "cell_type": "code",
   "execution_count": 29,
   "metadata": {},
   "outputs": [
    {
     "name": "stdout",
     "output_type": "stream",
     "text": [
      "JAMES\n",
      "5\n",
      "ROBERT\n",
      "6\n",
      "ALEXANDRU\n",
      "9\n",
      "ALIA\n",
      "4\n",
      "HUNTER\n",
      "6\n",
      "JACOB\n",
      "5\n",
      "JONATHAN\n",
      "8\n",
      "KENNETH\n",
      "7\n",
      "CALEB\n",
      "5\n",
      "MERINE\n",
      "6\n",
      "ANGELINA\n",
      "8\n"
     ]
    }
   ],
   "source": [
    "name_list= ['James','Robert','Alexandru','Alia','Hunter','Jacob','Jonathan','Kenneth','Caleb','Merine','Angelina']\n",
    "for i in name_list:\n",
    "    # print capital letter\n",
    "    print(i.upper())\n",
    "    # print number of characters\n",
    "    print(len(i))"
   ]
  },
  {
   "cell_type": "markdown",
   "metadata": {},
   "source": [
    "## Q9 (0.5 points)\n",
    "\n",
    "#### Create a dictionary with the keys 'Major', 'Year', 'Class'\n",
    "#### For the 'Major' and 'Year' keys, put your values there.\n",
    "#### For the 'Class' key, put the value as a list of two courses you have chosen this semester.  Note I will not check the correctness of your course name."
   ]
  },
  {
   "cell_type": "code",
   "execution_count": 30,
   "metadata": {},
   "outputs": [],
   "source": [
    "## Please put the code of Q9 here\n",
    "dic = {'Major': (\"cs\"), 'Year': (\"2019\"), 'Class': (\"mat394\",\"cse310\")}"
   ]
  },
  {
   "cell_type": "markdown",
   "metadata": {},
   "source": [
    "## Q10 (0.5 points)\n",
    "\n",
    "#### Please print out all the integer numbers from 1 to 100 that can be divided by 17 using a loop.\n",
    "#### Note you can use `%` to get the remainder after division"
   ]
  },
  {
   "cell_type": "code",
   "execution_count": 40,
   "metadata": {},
   "outputs": [
    {
     "name": "stdout",
     "output_type": "stream",
     "text": [
      "17\n",
      "34\n",
      "51\n",
      "68\n",
      "85\n"
     ]
    }
   ],
   "source": [
    "## Please put the code of Q10 here\n",
    "\n",
    "for i in range(1,100) :\n",
    "    a = i%17\n",
    "    if a==0:\n",
    "        print(i)"
   ]
  }
 ],
 "metadata": {
  "kernelspec": {
   "display_name": "Python 3",
   "language": "python",
   "name": "python3"
  },
  "language_info": {
   "codemirror_mode": {
    "name": "ipython",
    "version": 3
   },
   "file_extension": ".py",
   "mimetype": "text/x-python",
   "name": "python",
   "nbconvert_exporter": "python",
   "pygments_lexer": "ipython3",
   "version": "3.7.1"
  }
 },
 "nbformat": 4,
 "nbformat_minor": 2
}
