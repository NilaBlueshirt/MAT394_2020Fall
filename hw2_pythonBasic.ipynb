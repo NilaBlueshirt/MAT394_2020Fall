{
 "cells": [
  {
   "cell_type": "markdown",
   "metadata": {},
   "source": [
    "# Homework 2:\n",
    "\n",
    "## Please put your name into the filename you submit.\n",
    "\n",
    "### Note\n",
    "For each question, there is the description and the coding block.  In the coding block, please finish the code with the hints provided.\n",
    "\n",
    "You are free to use previous notes, google and all the other support.  I also encourage you to discuss with the other students in the class if anything is not clear.  Homework is for you to practice what we have learned during the class.\n",
    "\n",
    "The homework will be due the end of the day before the next class.  For example, if I give you the homework on Thursday, then it will be due the end of the upcoming Monday.\n"
   ]
  },
  {
   "cell_type": "markdown",
   "metadata": {},
   "source": [
    "# Q1 Math"
   ]
  },
  {
   "cell_type": "markdown",
   "metadata": {},
   "source": [
    "#### 1.1 Please calculate\n",
    "$$ 5.2\\times\\frac{3.2+ 5.3}{7.5+2.3}$$"
   ]
  },
  {
   "cell_type": "code",
   "execution_count": 1,
   "metadata": {},
   "outputs": [
    {
     "name": "stdout",
     "output_type": "stream",
     "text": [
      "4.510204081632653\n"
     ]
    }
   ],
   "source": [
    "### print the answer\n",
    "\n",
    "print( 5.2 * ( (3.2+5.3)/(7.5+2.3) ) )"
   ]
  },
  {
   "cell_type": "markdown",
   "metadata": {},
   "source": [
    "#### 1.2 Please calculate the equations\n",
    "$$ x=3.0 $$\n",
    "$$ y=2.0 $$\n",
    "$$ x+xy^2+xy^3 = ?$$"
   ]
  },
  {
   "cell_type": "code",
   "execution_count": 2,
   "metadata": {},
   "outputs": [
    {
     "name": "stdout",
     "output_type": "stream",
     "text": [
      "39.0\n"
     ]
    }
   ],
   "source": [
    "# define x and y\n",
    "x=3.0\n",
    "y=2.0\n",
    "\n",
    "# print the results\n",
    "print( x + x*(y**2) + x*(y**3) )\n"
   ]
  },
  {
   "cell_type": "markdown",
   "metadata": {},
   "source": [
    "#### 1.3 Please calculate the left side and right side of the equations below for $x=0.5 $\n",
    "\n",
    "$$ \\frac{1}{1-x} \\approx \\sum_{i=0}^{100000} x^{i} $$\n"
   ]
  },
  {
   "cell_type": "code",
   "execution_count": 12,
   "metadata": {},
   "outputs": [
    {
     "name": "stdout",
     "output_type": "stream",
     "text": [
      "2.0\n",
      "2.0\n"
     ]
    }
   ],
   "source": [
    "import numpy as np\n",
    "# define x\n",
    "x=0.5\n",
    "# define i\n",
    "i=np.arange(100001)\n",
    "\n",
    "### print the left side\n",
    "print(1/(1-x))\n",
    "\n",
    "### print the right side\n",
    "print(np.sum(x**i))"
   ]
  },
  {
   "cell_type": "markdown",
   "metadata": {},
   "source": [
    "# Q2 List"
   ]
  },
  {
   "cell_type": "markdown",
   "metadata": {},
   "source": [
    "#### For the string provided, please finish the operations below.\n"
   ]
  },
  {
   "cell_type": "code",
   "execution_count": 17,
   "metadata": {},
   "outputs": [
    {
     "name": "stdout",
     "output_type": "stream",
     "text": [
      "['a', 'b', 'c', 'd', 'e', 'f', 'g', 'h', 'i', 'j', 'k', 'l', 'm', 'n', 'o', 'p', 'q', 'r', 's', 't', 'u', 'v', 'w', 'x', 'y', 'z', 'z']\n",
      "20\n",
      "['a', 'b', 'c', 'd', 'e', 'f', 'g', 'h', 'i', 'j', 'k', 'l', 'm', 'n', 'o', 'p', 'q', 'r', 's', 't', 'u', 'v', 'w', 'x', 'y', 'z']\n"
     ]
    }
   ],
   "source": [
    "ab='abdefghijklmnopqrstuvwxyzz'\n",
    "\n",
    "# Please transform the string into a list\n",
    "list_ab=list(ab)\n",
    "\n",
    "# Insert 'c' inbetween 'b' and 'd' in the list\n",
    "list_ab.insert(2, \"c\")\n",
    "print(list_ab)\n",
    "\n",
    "# Get the index of 'u'\n",
    "print(list_ab.index(\"u\"))\n",
    "\n",
    "# There are two 'z's at the end, can you correct that by removing one z?\n",
    "list_ab.remove(\"z\")\n",
    "\n",
    "# Check how many 'z's you have removed\n",
    "print(list_ab)\n"
   ]
  },
  {
   "cell_type": "markdown",
   "metadata": {},
   "source": [
    "# Q3 Loop"
   ]
  },
  {
   "cell_type": "markdown",
   "metadata": {},
   "source": [
    "#### 3.1 Please calculate \n",
    "$$\\sum_{i=0}^{100000} x^{i}$$\n",
    "#### using `for` loop for $x=0.5 $"
   ]
  },
  {
   "cell_type": "code",
   "execution_count": 8,
   "metadata": {},
   "outputs": [
    {
     "name": "stdout",
     "output_type": "stream",
     "text": [
      "2.0\n"
     ]
    }
   ],
   "source": [
    "result=0.\n",
    "x=0.5\n",
    "for i in np.arange(100001):\n",
    "    result += x**i\n",
    "print(result)"
   ]
  },
  {
   "cell_type": "markdown",
   "metadata": {},
   "source": [
    "#### 3.2 Please break the loop after 11 is printed using `if` and `break`"
   ]
  },
  {
   "cell_type": "code",
   "execution_count": 10,
   "metadata": {},
   "outputs": [
    {
     "name": "stdout",
     "output_type": "stream",
     "text": [
      "0 1 2 3 4 5 6 7 8 9 10 11 "
     ]
    }
   ],
   "source": [
    "for i in np.arange(20):\n",
    "    print(i,end=' ')\n",
    "    ## break the loop here if i>10\n",
    "    if i>10:\n",
    "        break"
   ]
  },
  {
   "cell_type": "markdown",
   "metadata": {},
   "source": [
    "#### 3.3 Please calculate the first number larger than 100 in Fibonacci series \n",
    "$$ x_n = x_{n-1} + x_{n-2}$$\n",
    "#### and\n",
    "$$ x_0 = 0 ; x_1=1$$\n",
    "#### by finishing the code below"
   ]
  },
  {
   "cell_type": "code",
   "execution_count": 11,
   "metadata": {},
   "outputs": [
    {
     "name": "stdout",
     "output_type": "stream",
     "text": [
      "144.0\n"
     ]
    }
   ],
   "source": [
    "# define the series\n",
    "# initialize x_n-2\n",
    "xn2=0.\n",
    "# initialize x_n-1\n",
    "xn1=1.\n",
    "# calculate x_n\n",
    "xn=xn1+xn2\n",
    "while (xn<= 100):\n",
    "    # assign x_n-1 to x_n-2\n",
    "    xn2=xn1\n",
    "    # assign x_n to x_n-1\n",
    "    xn1=xn\n",
    "    # calculate x_n\n",
    "    xn= xn1 + xn2\n",
    "print(xn)"
   ]
  }
 ],
 "metadata": {
  "kernelspec": {
   "display_name": "Python 3",
   "language": "python",
   "name": "python3"
  },
  "language_info": {
   "codemirror_mode": {
    "name": "ipython",
    "version": 3
   },
   "file_extension": ".py",
   "mimetype": "text/x-python",
   "name": "python",
   "nbconvert_exporter": "python",
   "pygments_lexer": "ipython3",
   "version": "3.7.1"
  }
 },
 "nbformat": 4,
 "nbformat_minor": 2
}
